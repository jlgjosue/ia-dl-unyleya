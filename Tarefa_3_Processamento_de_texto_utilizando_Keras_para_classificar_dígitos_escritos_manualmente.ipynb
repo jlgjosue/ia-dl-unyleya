{
  "nbformat": 4,
  "nbformat_minor": 0,
  "metadata": {
    "colab": {
      "name": "Tarefa 3 - Processamento de texto utilizando Keras para classificar dígitos escritos manualmente.ipynb",
      "provenance": [],
      "authorship_tag": "ABX9TyPLQ4wXrJ5JS1YQk5awc1bf",
      "include_colab_link": true
    },
    "kernelspec": {
      "name": "python3",
      "display_name": "Python 3"
    }
  },
  "cells": [
    {
      "cell_type": "markdown",
      "metadata": {
        "id": "view-in-github",
        "colab_type": "text"
      },
      "source": [
        "<a href=\"https://colab.research.google.com/github/jlgjosue/ia-dl-unyleya/blob/master/Tarefa_3_Processamento_de_texto_utilizando_Keras_para_classificar_d%C3%ADgitos_escritos_manualmente.ipynb\" target=\"_parent\"><img src=\"https://colab.research.google.com/assets/colab-badge.svg\" alt=\"Open In Colab\"/></a>"
      ]
    },
    {
      "cell_type": "markdown",
      "metadata": {
        "id": "ffyvBOgbCblm",
        "colab_type": "text"
      },
      "source": [
        "## Bibliotecas e datasets utilizados"
      ]
    },
    {
      "cell_type": "code",
      "metadata": {
        "id": "zur0r5R4CWZd",
        "colab_type": "code",
        "colab": {
          "base_uri": "https://localhost:8080/",
          "height": 34
        },
        "outputId": "2a8be15b-59e0-4bf1-9fb9-2472725aba5b"
      },
      "source": [
        "# import do dataset\n",
        "from keras.datasets import mnist"
      ],
      "execution_count": 1,
      "outputs": [
        {
          "output_type": "stream",
          "text": [
            "Using TensorFlow backend.\n"
          ],
          "name": "stderr"
        }
      ]
    },
    {
      "cell_type": "markdown",
      "metadata": {
        "id": "C16BvTMMDAlG",
        "colab_type": "text"
      },
      "source": [
        "Import das clases para o uso da rede Feedforward."
      ]
    },
    {
      "cell_type": "code",
      "metadata": {
        "id": "Tics4RrBCzs-",
        "colab_type": "code",
        "colab": {}
      },
      "source": [
        "from keras.models import Sequential"
      ],
      "execution_count": 0,
      "outputs": []
    },
    {
      "cell_type": "code",
      "metadata": {
        "id": "Y4Or5zQgCz5o",
        "colab_type": "code",
        "colab": {}
      },
      "source": [
        "from keras.layers.core import Dense, Activation"
      ],
      "execution_count": 0,
      "outputs": []
    },
    {
      "cell_type": "code",
      "metadata": {
        "id": "c8zVCDOmC76i",
        "colab_type": "code",
        "colab": {}
      },
      "source": [
        "from keras.utils import np_utils"
      ],
      "execution_count": 0,
      "outputs": []
    },
    {
      "cell_type": "markdown",
      "metadata": {
        "id": "pSU-D7YTDUMk",
        "colab_type": "text"
      },
      "source": [
        "## Definindo conjunto de testes"
      ]
    },
    {
      "cell_type": "code",
      "metadata": {
        "id": "xBjXkqeoDRpu",
        "colab_type": "code",
        "colab": {
          "base_uri": "https://localhost:8080/",
          "height": 51
        },
        "outputId": "9966d11d-aca0-4475-ebda-3ff58c94c10c"
      },
      "source": [
        "(X_train, Y_train), (X_test, Y_test) = mnist.load_data()"
      ],
      "execution_count": 5,
      "outputs": [
        {
          "output_type": "stream",
          "text": [
            "Downloading data from https://s3.amazonaws.com/img-datasets/mnist.npz\n",
            "11493376/11490434 [==============================] - 1s 0us/step\n"
          ],
          "name": "stdout"
        }
      ]
    },
    {
      "cell_type": "markdown",
      "metadata": {
        "id": "oaJnRD2WDguj",
        "colab_type": "text"
      },
      "source": [
        "## Reoganizando dados para melhor utilizacao "
      ]
    },
    {
      "cell_type": "markdown",
      "metadata": {
        "id": "sRApKe3XCcnW",
        "colab_type": "text"
      },
      "source": [
        ""
      ]
    },
    {
      "cell_type": "code",
      "metadata": {
        "id": "1JwsLZNiDoii",
        "colab_type": "code",
        "colab": {}
      },
      "source": [
        "X_train = X_train.reshape(60000, 784)"
      ],
      "execution_count": 0,
      "outputs": []
    },
    {
      "cell_type": "code",
      "metadata": {
        "id": "3wjyOTZjDs-z",
        "colab_type": "code",
        "colab": {}
      },
      "source": [
        "  X_test = X_test.reshape(10000, 784)"
      ],
      "execution_count": 0,
      "outputs": []
    },
    {
      "cell_type": "markdown",
      "metadata": {
        "id": "40O65mjFD8wp",
        "colab_type": "text"
      },
      "source": [
        "## Transformar o conjunto de rótulos individuais para cada entrada"
      ]
    },
    {
      "cell_type": "code",
      "metadata": {
        "id": "PWbF6vHcEBuq",
        "colab_type": "code",
        "colab": {}
      },
      "source": [
        "  classes = 10"
      ],
      "execution_count": 0,
      "outputs": []
    },
    {
      "cell_type": "code",
      "metadata": {
        "id": "EqeZzm6lEE3T",
        "colab_type": "code",
        "colab": {}
      },
      "source": [
        "Y_train = np_utils.to_categorical(Y_train, classes)"
      ],
      "execution_count": 0,
      "outputs": []
    },
    {
      "cell_type": "code",
      "metadata": {
        "id": "y6-33CmaEJH2",
        "colab_type": "code",
        "colab": {}
      },
      "source": [
        "Y_test = np_utils.to_categorical(Y_test, classes)"
      ],
      "execution_count": 0,
      "outputs": []
    },
    {
      "cell_type": "markdown",
      "metadata": {
        "id": "_Z2_hBDuEM3_",
        "colab_type": "text"
      },
      "source": [
        "## especificar o tamanho da camada de entrada "
      ]
    },
    {
      "cell_type": "code",
      "metadata": {
        "id": "GOVl4F0DEVr8",
        "colab_type": "code",
        "colab": {}
      },
      "source": [
        "input_size = 784"
      ],
      "execution_count": 0,
      "outputs": []
    },
    {
      "cell_type": "code",
      "metadata": {
        "id": "LvxXV91GEZtN",
        "colab_type": "code",
        "colab": {}
      },
      "source": [
        "batch_size = 100"
      ],
      "execution_count": 0,
      "outputs": []
    },
    {
      "cell_type": "code",
      "metadata": {
        "id": "Gzdg73GLEdTm",
        "colab_type": "code",
        "colab": {}
      },
      "source": [
        "hidden_neurons = 100"
      ],
      "execution_count": 0,
      "outputs": []
    },
    {
      "cell_type": "code",
      "metadata": {
        "id": "5kLrdvjREfsV",
        "colab_type": "code",
        "colab": {}
      },
      "source": [
        "epochs = 100"
      ],
      "execution_count": 0,
      "outputs": []
    },
    {
      "cell_type": "markdown",
      "metadata": {
        "id": "AX_EayHKEkgP",
        "colab_type": "text"
      },
      "source": [
        "## Difinindo a rede"
      ]
    },
    {
      "cell_type": "code",
      "metadata": {
        "id": "gBiD3WRMEoJD",
        "colab_type": "code",
        "colab": {}
      },
      "source": [
        "      model = Sequential([\n",
        "\n",
        "            Dense(hidden_neurons, input_dim=input_size),\n",
        "\n",
        "            Activation('sigmoid'),\n",
        "\n",
        "            Dense(classes),\n",
        "\n",
        "            Activation('softmax')\n",
        "\n",
        "       ])"
      ],
      "execution_count": 0,
      "outputs": []
    },
    {
      "cell_type": "markdown",
      "metadata": {
        "id": "UeDnuuwME4uF",
        "colab_type": "text"
      },
      "source": [
        "## Especificar de forma simples a função de custo (loss function) e sua otimização"
      ]
    },
    {
      "cell_type": "code",
      "metadata": {
        "id": "YPZ6NgXEE7b9",
        "colab_type": "code",
        "colab": {}
      },
      "source": [
        "model.compile(loss='categorical_crossentropy', metrics=['accuracy'], optimizer='sgd')"
      ],
      "execution_count": 0,
      "outputs": []
    },
    {
      "cell_type": "markdown",
      "metadata": {
        "id": "NIqmzzf5FBs9",
        "colab_type": "text"
      },
      "source": [
        "# Realizar o treinamento"
      ]
    },
    {
      "cell_type": "code",
      "metadata": {
        "id": "CH8J-zYFFIAq",
        "colab_type": "code",
        "colab": {
          "base_uri": "https://localhost:8080/",
          "height": 1000
        },
        "outputId": "8ab34f12-e359-4c8b-b3b1-96f09872c54f"
      },
      "source": [
        "model.fit(X_train, Y_train, batch_size = batch_size,nb_epoch=epochs, verbose=1)"
      ],
      "execution_count": 17,
      "outputs": [
        {
          "output_type": "stream",
          "text": [
            "/usr/local/lib/python3.6/dist-packages/ipykernel_launcher.py:1: UserWarning: The `nb_epoch` argument in `fit` has been renamed `epochs`.\n",
            "  \"\"\"Entry point for launching an IPython kernel.\n"
          ],
          "name": "stderr"
        },
        {
          "output_type": "stream",
          "text": [
            "Epoch 1/100\n",
            "60000/60000 [==============================] - 2s 29us/step - loss: 0.9431 - accuracy: 0.7635\n",
            "Epoch 2/100\n",
            "60000/60000 [==============================] - 1s 24us/step - loss: 0.4866 - accuracy: 0.8813\n",
            "Epoch 3/100\n",
            "60000/60000 [==============================] - 1s 24us/step - loss: 0.3922 - accuracy: 0.8993\n",
            "Epoch 4/100\n",
            "60000/60000 [==============================] - 1s 24us/step - loss: 0.3462 - accuracy: 0.9096\n",
            "Epoch 5/100\n",
            "60000/60000 [==============================] - 1s 24us/step - loss: 0.3163 - accuracy: 0.9162\n",
            "Epoch 6/100\n",
            "60000/60000 [==============================] - 1s 24us/step - loss: 0.2930 - accuracy: 0.9201\n",
            "Epoch 7/100\n",
            "60000/60000 [==============================] - 1s 24us/step - loss: 0.2766 - accuracy: 0.9243\n",
            "Epoch 8/100\n",
            "60000/60000 [==============================] - 1s 24us/step - loss: 0.2614 - accuracy: 0.9291\n",
            "Epoch 9/100\n",
            "60000/60000 [==============================] - 1s 24us/step - loss: 0.2488 - accuracy: 0.9333\n",
            "Epoch 10/100\n",
            "60000/60000 [==============================] - 1s 24us/step - loss: 0.2394 - accuracy: 0.9342\n",
            "Epoch 11/100\n",
            "60000/60000 [==============================] - 1s 23us/step - loss: 0.2314 - accuracy: 0.9361\n",
            "Epoch 12/100\n",
            "60000/60000 [==============================] - 1s 24us/step - loss: 0.2225 - accuracy: 0.9387\n",
            "Epoch 13/100\n",
            "60000/60000 [==============================] - 1s 24us/step - loss: 0.2166 - accuracy: 0.9400\n",
            "Epoch 14/100\n",
            "60000/60000 [==============================] - 1s 24us/step - loss: 0.2081 - accuracy: 0.9421\n",
            "Epoch 15/100\n",
            "60000/60000 [==============================] - 1s 24us/step - loss: 0.2016 - accuracy: 0.9448\n",
            "Epoch 16/100\n",
            "60000/60000 [==============================] - 1s 24us/step - loss: 0.1979 - accuracy: 0.9453\n",
            "Epoch 17/100\n",
            "60000/60000 [==============================] - 1s 24us/step - loss: 0.1894 - accuracy: 0.9476\n",
            "Epoch 18/100\n",
            "60000/60000 [==============================] - 1s 24us/step - loss: 0.1889 - accuracy: 0.9482\n",
            "Epoch 19/100\n",
            "60000/60000 [==============================] - 1s 24us/step - loss: 0.1822 - accuracy: 0.9504\n",
            "Epoch 20/100\n",
            "60000/60000 [==============================] - 1s 24us/step - loss: 0.1799 - accuracy: 0.9499\n",
            "Epoch 21/100\n",
            "60000/60000 [==============================] - 1s 24us/step - loss: 0.1750 - accuracy: 0.9525\n",
            "Epoch 22/100\n",
            "60000/60000 [==============================] - 1s 24us/step - loss: 0.1709 - accuracy: 0.9532\n",
            "Epoch 23/100\n",
            "60000/60000 [==============================] - 1s 24us/step - loss: 0.1672 - accuracy: 0.9550\n",
            "Epoch 24/100\n",
            "60000/60000 [==============================] - 1s 23us/step - loss: 0.1645 - accuracy: 0.9548\n",
            "Epoch 25/100\n",
            "60000/60000 [==============================] - 1s 24us/step - loss: 0.1637 - accuracy: 0.9542\n",
            "Epoch 26/100\n",
            "60000/60000 [==============================] - 1s 24us/step - loss: 0.1585 - accuracy: 0.9563\n",
            "Epoch 27/100\n",
            "60000/60000 [==============================] - 1s 24us/step - loss: 0.1550 - accuracy: 0.9568\n",
            "Epoch 28/100\n",
            "60000/60000 [==============================] - 1s 24us/step - loss: 0.1535 - accuracy: 0.9579\n",
            "Epoch 29/100\n",
            "60000/60000 [==============================] - 1s 24us/step - loss: 0.1522 - accuracy: 0.9575\n",
            "Epoch 30/100\n",
            "60000/60000 [==============================] - 1s 24us/step - loss: 0.1481 - accuracy: 0.9593\n",
            "Epoch 31/100\n",
            "60000/60000 [==============================] - 1s 24us/step - loss: 0.1441 - accuracy: 0.9606\n",
            "Epoch 32/100\n",
            "60000/60000 [==============================] - 1s 24us/step - loss: 0.1420 - accuracy: 0.9610\n",
            "Epoch 33/100\n",
            "60000/60000 [==============================] - 1s 25us/step - loss: 0.1404 - accuracy: 0.9617\n",
            "Epoch 34/100\n",
            "60000/60000 [==============================] - 1s 24us/step - loss: 0.1375 - accuracy: 0.9625\n",
            "Epoch 35/100\n",
            "60000/60000 [==============================] - 1s 24us/step - loss: 0.1388 - accuracy: 0.9620\n",
            "Epoch 36/100\n",
            "60000/60000 [==============================] - 1s 24us/step - loss: 0.1367 - accuracy: 0.9631\n",
            "Epoch 37/100\n",
            "60000/60000 [==============================] - 1s 24us/step - loss: 0.1319 - accuracy: 0.9644\n",
            "Epoch 38/100\n",
            "60000/60000 [==============================] - 1s 25us/step - loss: 0.1313 - accuracy: 0.9640\n",
            "Epoch 39/100\n",
            "60000/60000 [==============================] - 1s 24us/step - loss: 0.1283 - accuracy: 0.9644\n",
            "Epoch 40/100\n",
            "60000/60000 [==============================] - 1s 24us/step - loss: 0.1268 - accuracy: 0.9656\n",
            "Epoch 41/100\n",
            "60000/60000 [==============================] - 1s 24us/step - loss: 0.1234 - accuracy: 0.9658\n",
            "Epoch 42/100\n",
            "60000/60000 [==============================] - 1s 25us/step - loss: 0.1238 - accuracy: 0.9662\n",
            "Epoch 43/100\n",
            "60000/60000 [==============================] - 1s 24us/step - loss: 0.1196 - accuracy: 0.9674\n",
            "Epoch 44/100\n",
            "60000/60000 [==============================] - 1s 24us/step - loss: 0.1186 - accuracy: 0.9681\n",
            "Epoch 45/100\n",
            "60000/60000 [==============================] - 1s 24us/step - loss: 0.1168 - accuracy: 0.9677\n",
            "Epoch 46/100\n",
            "60000/60000 [==============================] - 1s 24us/step - loss: 0.1165 - accuracy: 0.9684\n",
            "Epoch 47/100\n",
            "60000/60000 [==============================] - 1s 24us/step - loss: 0.1137 - accuracy: 0.9684\n",
            "Epoch 48/100\n",
            "60000/60000 [==============================] - 1s 24us/step - loss: 0.1144 - accuracy: 0.9684\n",
            "Epoch 49/100\n",
            "60000/60000 [==============================] - 1s 24us/step - loss: 0.1123 - accuracy: 0.9695\n",
            "Epoch 50/100\n",
            "60000/60000 [==============================] - 1s 24us/step - loss: 0.1087 - accuracy: 0.9712\n",
            "Epoch 51/100\n",
            "60000/60000 [==============================] - 1s 24us/step - loss: 0.1101 - accuracy: 0.9701\n",
            "Epoch 52/100\n",
            "60000/60000 [==============================] - 1s 24us/step - loss: 0.1087 - accuracy: 0.9701\n",
            "Epoch 53/100\n",
            "60000/60000 [==============================] - 1s 24us/step - loss: 0.1085 - accuracy: 0.9705\n",
            "Epoch 54/100\n",
            "60000/60000 [==============================] - 1s 24us/step - loss: 0.1068 - accuracy: 0.9713\n",
            "Epoch 55/100\n",
            "60000/60000 [==============================] - 1s 23us/step - loss: 0.1033 - accuracy: 0.9725\n",
            "Epoch 56/100\n",
            "60000/60000 [==============================] - 1s 24us/step - loss: 0.1038 - accuracy: 0.9714\n",
            "Epoch 57/100\n",
            "60000/60000 [==============================] - 1s 24us/step - loss: 0.1013 - accuracy: 0.9731\n",
            "Epoch 58/100\n",
            "60000/60000 [==============================] - 1s 24us/step - loss: 0.1002 - accuracy: 0.9730\n",
            "Epoch 59/100\n",
            "60000/60000 [==============================] - 1s 24us/step - loss: 0.0996 - accuracy: 0.9732\n",
            "Epoch 60/100\n",
            "60000/60000 [==============================] - 1s 23us/step - loss: 0.0977 - accuracy: 0.9742\n",
            "Epoch 61/100\n",
            "60000/60000 [==============================] - 1s 25us/step - loss: 0.0973 - accuracy: 0.9743\n",
            "Epoch 62/100\n",
            "60000/60000 [==============================] - 1s 24us/step - loss: 0.0947 - accuracy: 0.9749\n",
            "Epoch 63/100\n",
            "60000/60000 [==============================] - 1s 25us/step - loss: 0.0946 - accuracy: 0.9746\n",
            "Epoch 64/100\n",
            "60000/60000 [==============================] - 1s 25us/step - loss: 0.0960 - accuracy: 0.9738\n",
            "Epoch 65/100\n",
            "60000/60000 [==============================] - 1s 24us/step - loss: 0.0939 - accuracy: 0.9748\n",
            "Epoch 66/100\n",
            "60000/60000 [==============================] - 1s 24us/step - loss: 0.0943 - accuracy: 0.9747\n",
            "Epoch 67/100\n",
            "60000/60000 [==============================] - 1s 24us/step - loss: 0.0926 - accuracy: 0.9748\n",
            "Epoch 68/100\n",
            "60000/60000 [==============================] - 1s 24us/step - loss: 0.0910 - accuracy: 0.9758\n",
            "Epoch 69/100\n",
            "60000/60000 [==============================] - 1s 24us/step - loss: 0.0882 - accuracy: 0.9761\n",
            "Epoch 70/100\n",
            "60000/60000 [==============================] - 1s 24us/step - loss: 0.0880 - accuracy: 0.9762\n",
            "Epoch 71/100\n",
            "60000/60000 [==============================] - 1s 24us/step - loss: 0.0888 - accuracy: 0.9761\n",
            "Epoch 72/100\n",
            "60000/60000 [==============================] - 1s 24us/step - loss: 0.0868 - accuracy: 0.9769\n",
            "Epoch 73/100\n",
            "60000/60000 [==============================] - 1s 24us/step - loss: 0.0854 - accuracy: 0.9782\n",
            "Epoch 74/100\n",
            "60000/60000 [==============================] - 1s 24us/step - loss: 0.0827 - accuracy: 0.9788\n",
            "Epoch 75/100\n",
            "60000/60000 [==============================] - 1s 24us/step - loss: 0.0825 - accuracy: 0.9779\n",
            "Epoch 76/100\n",
            "60000/60000 [==============================] - 1s 23us/step - loss: 0.0814 - accuracy: 0.9788\n",
            "Epoch 77/100\n",
            "60000/60000 [==============================] - 2s 25us/step - loss: 0.0825 - accuracy: 0.9784\n",
            "Epoch 78/100\n",
            "60000/60000 [==============================] - 1s 23us/step - loss: 0.0820 - accuracy: 0.9784\n",
            "Epoch 79/100\n",
            "60000/60000 [==============================] - 1s 25us/step - loss: 0.0808 - accuracy: 0.9785\n",
            "Epoch 80/100\n",
            "60000/60000 [==============================] - 1s 24us/step - loss: 0.0786 - accuracy: 0.9792\n",
            "Epoch 81/100\n",
            "60000/60000 [==============================] - 1s 24us/step - loss: 0.0773 - accuracy: 0.9798\n",
            "Epoch 82/100\n",
            "60000/60000 [==============================] - 1s 24us/step - loss: 0.0770 - accuracy: 0.9803\n",
            "Epoch 83/100\n",
            "60000/60000 [==============================] - 1s 25us/step - loss: 0.0754 - accuracy: 0.9809\n",
            "Epoch 84/100\n",
            "60000/60000 [==============================] - 1s 24us/step - loss: 0.0743 - accuracy: 0.9812\n",
            "Epoch 85/100\n",
            "60000/60000 [==============================] - 1s 24us/step - loss: 0.0745 - accuracy: 0.9814\n",
            "Epoch 86/100\n",
            "60000/60000 [==============================] - 1s 24us/step - loss: 0.0756 - accuracy: 0.9807\n",
            "Epoch 87/100\n",
            "60000/60000 [==============================] - 1s 24us/step - loss: 0.0736 - accuracy: 0.9814\n",
            "Epoch 88/100\n",
            "60000/60000 [==============================] - 1s 24us/step - loss: 0.0737 - accuracy: 0.9811\n",
            "Epoch 89/100\n",
            "60000/60000 [==============================] - 1s 24us/step - loss: 0.0736 - accuracy: 0.9812\n",
            "Epoch 90/100\n",
            "60000/60000 [==============================] - 1s 24us/step - loss: 0.0719 - accuracy: 0.9814\n",
            "Epoch 91/100\n",
            "60000/60000 [==============================] - 1s 24us/step - loss: 0.0699 - accuracy: 0.9822\n",
            "Epoch 92/100\n",
            "60000/60000 [==============================] - 1s 23us/step - loss: 0.0722 - accuracy: 0.9812\n",
            "Epoch 93/100\n",
            "60000/60000 [==============================] - 1s 24us/step - loss: 0.0725 - accuracy: 0.9811\n",
            "Epoch 94/100\n",
            "60000/60000 [==============================] - 1s 24us/step - loss: 0.0699 - accuracy: 0.9821\n",
            "Epoch 95/100\n",
            "60000/60000 [==============================] - 1s 25us/step - loss: 0.0712 - accuracy: 0.9815\n",
            "Epoch 96/100\n",
            "60000/60000 [==============================] - 1s 24us/step - loss: 0.0680 - accuracy: 0.9827\n",
            "Epoch 97/100\n",
            "60000/60000 [==============================] - 1s 23us/step - loss: 0.0678 - accuracy: 0.9831\n",
            "Epoch 98/100\n",
            "60000/60000 [==============================] - 1s 24us/step - loss: 0.0672 - accuracy: 0.9827\n",
            "Epoch 99/100\n",
            "60000/60000 [==============================] - 1s 24us/step - loss: 0.0661 - accuracy: 0.9833\n",
            "Epoch 100/100\n",
            "60000/60000 [==============================] - 1s 24us/step - loss: 0.0654 - accuracy: 0.9836\n"
          ],
          "name": "stdout"
        },
        {
          "output_type": "execute_result",
          "data": {
            "text/plain": [
              "<keras.callbacks.callbacks.History at 0x7f19eadd7f28>"
            ]
          },
          "metadata": {
            "tags": []
          },
          "execution_count": 17
        }
      ]
    },
    {
      "cell_type": "markdown",
      "metadata": {
        "id": "xA1ODvF5F27r",
        "colab_type": "text"
      },
      "source": [
        "## verificar a acurácia dos dados de teste"
      ]
    },
    {
      "cell_type": "code",
      "metadata": {
        "id": "5Tf4ffdmF6TZ",
        "colab_type": "code",
        "colab": {
          "base_uri": "https://localhost:8080/",
          "height": 34
        },
        "outputId": "b1380857-590d-461d-9a66-4ad5e46da2b5"
      },
      "source": [
        "score = model.evaluate(X_test, Y_test, verbose=1)"
      ],
      "execution_count": 18,
      "outputs": [
        {
          "output_type": "stream",
          "text": [
            "10000/10000 [==============================] - 0s 26us/step\n"
          ],
          "name": "stdout"
        }
      ]
    },
    {
      "cell_type": "code",
      "metadata": {
        "id": "sQzHzBDNGA26",
        "colab_type": "code",
        "colab": {
          "base_uri": "https://localhost:8080/",
          "height": 34
        },
        "outputId": "abfe84fa-2d3f-432c-c9cb-3cbe3cc1848b"
      },
      "source": [
        "  print('Test accuracy:', score[1])"
      ],
      "execution_count": 19,
      "outputs": [
        {
          "output_type": "stream",
          "text": [
            "Test accuracy: 0.9672999978065491\n"
          ],
          "name": "stdout"
        }
      ]
    },
    {
      "cell_type": "markdown",
      "metadata": {
        "id": "gHlwr8e4GOAq",
        "colab_type": "text"
      },
      "source": [
        "## verificar o que a rede aprendeu, visuzalizando os pesos das camadas ocultas"
      ]
    },
    {
      "cell_type": "code",
      "metadata": {
        "id": "mdjZtxsOGYCZ",
        "colab_type": "code",
        "colab": {}
      },
      "source": [
        "weights = model.layers[0].get_weights()"
      ],
      "execution_count": 0,
      "outputs": []
    },
    {
      "cell_type": "markdown",
      "metadata": {
        "id": "4yzOCK5nGuRt",
        "colab_type": "text"
      },
      "source": [
        "Reoganizando para melhor visualizar os neurônios em matrizes bidimensionais de 28x28 pixels"
      ]
    },
    {
      "cell_type": "code",
      "metadata": {
        "id": "uirCAch3G6P5",
        "colab_type": "code",
        "colab": {
          "base_uri": "https://localhost:8080/",
          "height": 248
        },
        "outputId": "56b2e31f-dd8c-482b-a7fe-94791d4b1b5f"
      },
      "source": [
        "import matplotlib.pyplot as plt\n",
        "\n",
        "import matplotlib.cm as cm\n",
        "\n",
        "import numpy\n",
        "\n",
        "fig = plt.figure()\n",
        "\n",
        "w = weights[0].T\n",
        "\n",
        "for neuron in range(hidden_neurons):\n",
        "\n",
        "    ax = fig.add_subplot(10, 10, neuron + 1)\n",
        "\n",
        "    ax.axis(\"off\")\n",
        "\n",
        "    ax.imshow(numpy.reshape(w[neuron], (28, 28)),\n",
        "\n",
        "    cmap=cm.Greys_r)\n",
        "\n",
        "plt.savefig(\"neuron_images.png\", dpi=300)\n",
        "\n",
        "plt.show()"
      ],
      "execution_count": 22,
      "outputs": [
        {
          "output_type": "display_data",
          "data": {
            "image/png": "[encoded data removed]",
            "text/plain": [
              "<Figure size 432x288 with 100 Axes>"
            ]
          },
          "metadata": {
            "tags": [],
            "needs_background": "light"
          }
        }
      ]
    }
  ]
}